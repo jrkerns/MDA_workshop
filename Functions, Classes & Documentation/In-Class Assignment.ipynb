{
 "cells": [
  {
   "cell_type": "markdown",
   "metadata": {},
   "source": [
    "### In-Class Assignment\n",
    "\n",
    "Write a program that tracks a vehicle driving in various directions. \n",
    "\n",
    "Input is this set of orders:\n",
    "\n",
    "| Street | Direction | Distance (mi) | \n",
    "| ------- | ------ | ------ |\n",
    "| Main | North | 1.2 |\n",
    "| Maple | West | 0.5 |\n",
    "| First | North | 0.3 |\n",
    "| Elm | East | 0.8 |\n",
    "\n",
    "The goal is to compose a solution that:\n",
    "* accepts each order individually,\n",
    "* tracks the total distance travelled at each step\n",
    "* tracks the direct (as the crow flies) distance to the starting point\n",
    "* tracks the names of the streets the vehicle has been on so far."
   ]
  },
  {
   "cell_type": "markdown",
   "metadata": {},
   "source": []
  }
 ],
 "metadata": {
  "kernelspec": {
   "display_name": "Python 3",
   "language": "python",
   "name": "python3"
  },
  "language_info": {
   "codemirror_mode": {
    "name": "ipython",
    "version": 3
   },
   "file_extension": ".py",
   "mimetype": "text/x-python",
   "name": "python",
   "nbconvert_exporter": "python",
   "pygments_lexer": "ipython3",
   "version": "3.4.4"
  }
 },
 "nbformat": 4,
 "nbformat_minor": 0
}
