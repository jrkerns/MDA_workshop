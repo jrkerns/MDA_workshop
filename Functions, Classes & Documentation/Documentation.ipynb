{
 "cells": [
  {
   "cell_type": "markdown",
   "metadata": {},
   "source": [
    "# Documentation \n",
    "\n",
    "Documentation is how you explain what your code does. Documentation is as important as the code itself; if you don't know how to use it, it's not doing you any good. Furthermore, refactoring becomes much more difficult since you don't know the conditions of your input/output. Without documentation, parameter types are unknown as are return types. \n",
    "\n",
    "**Documentation == code**"
   ]
  },
  {
   "cell_type": "markdown",
   "metadata": {},
   "source": [
    "### The code itself\n",
    "\n",
    "Before writing explicit documentation, make sure the code itself reads well. Well-written code (good variable names, single-focus functions, etc) will need less explanation than poorly written code, thus saving you some typing of explicit documentation.\n",
    "\n",
    "**Well-written code means less explicit documentation is required.**"
   ]
  },
  {
   "cell_type": "markdown",
   "metadata": {},
   "source": [
    "### The program\n",
    "\n",
    "Usually, you're working on some sort of large project, e.g. your thesis, and you have some \"main\" function or script which starts off your program. Or perhaps it's simply a long script. In any event, **you need to document the purpose of the entire program**; why did you write this huge script/program?\n",
    "\n",
    "```\n",
    "%{\n",
    "jpgify.m\n",
    "\n",
    "The following script finds the DICOM files within a folder (ignoring all other file types), \n",
    "and extracts the image information of each one and saves it to .jpg file.\n",
    "%}\n",
    "\n",
    "x = ...\n",
    "y = ...\n",
    "```"
   ]
  },
  {
   "cell_type": "markdown",
   "metadata": {},
   "source": [
    "### The class\n",
    "\n",
    "A class should have one clear purpose and represent one object. Documenting a class means **including it's purpose, some common methods, and an example use case**. Since classes tend to be bigger than functions, you should include more documentation in a class.\n",
    "\n",
    "```python\n",
    "class Employee:\n",
    "\"\"\"The Employee class represents an employee working at SuperAwesome Company. \n",
    "The employee can work and get paid, among other things.\n",
    "\n",
    "Example:\n",
    ">>> john = Employee(name='John', wage=16)\n",
    ">>> john.work(10)\n",
    "\"\"\"\n",
    "\n",
    "    def work(self, hours):\n",
    "        ...\n",
    "```"
   ]
  },
  {
   "cell_type": "markdown",
   "metadata": {},
   "source": [
    "### Functions & Methods\n",
    "\n",
    "Functions and methods should do one thing and do it well. Documenting functions and methods means documenting the following:\n",
    "* **What the function does, i.e. its purpose**\n",
    "* **The parameter types**\n",
    "* **The parameter descriptions**\n",
    "* **The return type and description**.\n",
    "\n",
    "```python\n",
    "def transfer_employee(employee, old_store, new_store, transfer_date):\n",
    "    \"\"\"Move one employee from one store to another one at the set date.\n",
    "    \n",
    "    Parameters\n",
    "    ----------\n",
    "    employee : Employee\n",
    "        The employee that will be transferred.\n",
    "    old_store : Store\n",
    "        The store the employee is leaving.\n",
    "    new_store : Store\n",
    "        The store the employee is moving to.\n",
    "    transfer_date : string\n",
    "        The date the transfer will take place. The string must be in the\n",
    "        format of mm/dd/yyyy.\n",
    "    \n",
    "    Returns\n",
    "    -------\n",
    "    successful : boolean\n",
    "        A flag specifying whether the transfer was successful. It's possible\n",
    "        the transfer will not succeed if the new store has too many employees.\n",
    "    \"\"\"\n",
    "    \n",
    "        ...\n",
    "```\n",
    "\n",
    "See a Matlab documentation example [here](http://www.mathworks.com/help/matlab/matlab_prog/add-help-for-your-program.html).\n",
    "\n",
    "Python documentation [style guide](https://www.python.org/dev/peps/pep-0257/)."
   ]
  },
  {
   "cell_type": "markdown",
   "metadata": {},
   "source": [
    "### Intra-function documentation\n",
    "\n",
    "Documenting your code starts before you begin coding: during the pseudocode design process. \n",
    "\n",
    "If you write pseudocode before you start coding not only does it make your goal clear from the get-go it makes for good documentation within your function. \n",
    "\n",
    "**You should add comments within your code to clarify the purpose of each block of code**\n",
    "\n",
    "```python\n",
    "def transfer_employee(employee, old_store, new_store, transfer_date):\n",
    "    \"\"\"Move one employee from one store to another one at the set date.\n",
    "    \n",
    "    Parameters\n",
    "    ----------\n",
    "    ...\n",
    "    \"\"\"\n",
    "    \n",
    "    # drop employee from the old store and add employee to new store\n",
    "    ...\n",
    "    \n",
    "    # calculate last paycheck from old store based on transfer date\n",
    "    ...\n",
    "    \n",
    "    # notify manager of new store of transfer\n",
    "    ...\n",
    "```"
   ]
  },
  {
   "cell_type": "code",
   "execution_count": null,
   "metadata": {
    "collapsed": true
   },
   "outputs": [],
   "source": []
  },
  {
   "cell_type": "code",
   "execution_count": null,
   "metadata": {
    "collapsed": true
   },
   "outputs": [],
   "source": []
  }
 ],
 "metadata": {
  "kernelspec": {
   "display_name": "Python 3",
   "language": "python",
   "name": "python3"
  },
  "language_info": {
   "codemirror_mode": {
    "name": "ipython",
    "version": 3
   },
   "file_extension": ".py",
   "mimetype": "text/x-python",
   "name": "python",
   "nbconvert_exporter": "python",
   "pygments_lexer": "ipython3",
   "version": "3.4.3"
  }
 },
 "nbformat": 4,
 "nbformat_minor": 0
}
