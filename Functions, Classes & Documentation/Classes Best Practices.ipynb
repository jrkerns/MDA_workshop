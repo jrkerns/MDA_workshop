{
 "cells": [
  {
   "cell_type": "markdown",
   "metadata": {},
   "source": [
    "# Class Best Practices\n",
    "\n",
    "Classes are the next evolution in programming beyond functions and variables. They allow data and behavior to be connected into one consistent level of abstraction. If minimizing complexity is your goal, classes are you're new friend. It allows you to hide unecessary details when working on any given section of code."
   ]
  },
  {
   "cell_type": "markdown",
   "metadata": {},
   "source": [
    "### Classes should represent connected data and behavior\n",
    "\n",
    "*The purposes of classes is to let data and behavior/manipulation of that data to be done in a consistent and abstract way.*\n",
    "\n",
    "With functions the goal is to do one thing and one thing well. \n",
    "With classes **the goal is to represent one thing well and have it behave consistently.**\n"
   ]
  },
  {
   "cell_type": "markdown",
   "metadata": {},
   "source": [
    "### Reasons to create a class\n",
    "\n",
    "* **Model real-world objects.** This is the easiest and most direct way object-oriented programming can effectively work. Real world objects have properties (data) and can do things (behavior). Because real-world objects meet both of these criteria, they are perfect models for classes/objects. Examples:\n",
    "    * ``Person``\n",
    "        * ``name``\n",
    "        * ``age``\n",
    "        * ``eat()``\n",
    "        * ``defecate()``\n",
    "    * ``Vehicle``\n",
    "        * ``model``\n",
    "        * ``mileage``\n",
    "        * ``accelerate()``\n",
    "        * ``turn()``\n",
    "    * ``Computer``\n",
    "        * ``memory``\n",
    "        * ``storage``\n",
    "        * ``turn_on()``\n",
    "        * ``perform_calculation()``\n",
    "        \n",
    "        \n",
    "* **Model abstract objects.** While real-world objects are often modelled in programming, many times abstract objects are also necessary to be modelled. Although they are not \"real\" they can still easily be though of as objects.\n",
    "    * ``File``\n",
    "        * ``name``\n",
    "        * ``size``\n",
    "        * ``open()``\n",
    "        * ``close()``\n",
    "    * ``Image``\n",
    "        * ``data_type``\n",
    "        * ``file_location``\n",
    "        * ``threshold()``\n",
    "        * ``find_blobs()``\n",
    "        \n",
    "        \n",
    "* **Reduce/Isolate complexity.** If you find yourself passing the same structures over and over again, it's a sign you should use a class. Furthermore, by using a class, the implementation details are hidden, reducing & isolating the complexity of the program.\n",
    "```python\n",
    "    image_array = open('myimage.jpg')\n",
    "    cropped_image = crop_edges(image_array, width=10)\n",
    "    thresheld_image = threshold(cropped_image, level=0.4)\n",
    "    blobs = find_blobs(thresheld_image, size=15)\n",
    "```\n",
    "  Total variables: 4; clarity: medium.\n",
    "    \n",
    "  Instead of multiple functions/variables, a class has a better abstraction and is easier to read:\n",
    "```python\n",
    "    image = Image('myimage.jpg')\n",
    "    image.crop(width=10)\n",
    "    image.threshold(level=0.4)\n",
    "    blobs = image.find_blobs(size=15)\n",
    "```\n",
    "  Total variables: 2; clarity: high.\n",
    "\n",
    "\n",
    "* **Reuse code for similar objects.** If multiple, similar objects will be needed, it's easiest to create an initial class, and then subclass the original class and modify as needed. For example, if we need to create a system that keeps track of employees, we can create an ``Employee`` class. However, there can be both full-time and part-time employees. Instead of trying to keep track of status by passing around variables, this data can be hidden (isolating complexity) and methods can be reused or modified as necessary."
   ]
  },
  {
   "cell_type": "code",
   "execution_count": 28,
   "metadata": {
    "collapsed": true
   },
   "outputs": [],
   "source": [
    "class Employee:\n",
    "    \"\"\"A class representing an employee.\"\"\"\n",
    "\n",
    "    def __init__(self, name, wage):\n",
    "        self.name = name\n",
    "        self.wage = wage\n",
    "        self.hours_worked = 0\n",
    "        \n",
    "    def work(self, hours):\n",
    "        self.hours_worked += hours\n",
    "        \n",
    "    def pay(self):\n",
    "        paycheck = self.hours_worked * self.wage\n",
    "        self.hours_worked = 0\n",
    "        print(\"{} made ${:.2f}\".format(self.name, paycheck))\n",
    "        \n",
    "        \n",
    "class FullTimeEmployee(Employee):\n",
    "    \"\"\"A class representing a full-time employee. The employee must work 40 hours before being paid.\"\"\"\n",
    "    \n",
    "    def pay(self):\n",
    "        if self.hours_worked < 40:\n",
    "            print(\"You gotta work it buddy! No pay for you.\")\n",
    "        else:\n",
    "            Employee.pay(self)"
   ]
  },
  {
   "cell_type": "code",
   "execution_count": 25,
   "metadata": {
    "collapsed": false
   },
   "outputs": [
    {
     "name": "stdout",
     "output_type": "stream",
     "text": [
      "Peter made $170.00\n"
     ]
    }
   ],
   "source": [
    "peter = Employee(name='Peter', wage=8.50)\n",
    "peter.work(20)\n",
    "peter.pay()"
   ]
  },
  {
   "cell_type": "code",
   "execution_count": 26,
   "metadata": {
    "collapsed": false
   },
   "outputs": [
    {
     "name": "stdout",
     "output_type": "stream",
     "text": [
      "You gotta work it buddy! No pay for you.\n"
     ]
    }
   ],
   "source": [
    "paul = FullTimeEmployee(name='Paul', wage=12)\n",
    "paul.work(20)\n",
    "paul.pay()"
   ]
  },
  {
   "cell_type": "code",
   "execution_count": 27,
   "metadata": {
    "collapsed": false
   },
   "outputs": [
    {
     "name": "stdout",
     "output_type": "stream",
     "text": [
      "Paul made $480.00\n"
     ]
    }
   ],
   "source": [
    "paul.work(20)\n",
    "paul.pay()"
   ]
  },
  {
   "cell_type": "markdown",
   "metadata": {},
   "source": [
    "It would be inconsistent to have behaviors that do not represent what the object can actually do. For example, employees cannot hire or fire themselves; that is the job of a manager.\n",
    "\n",
    "```python\n",
    "# inaccurate representation of an object\n",
    "class Employee:\n",
    "    ...\n",
    "   \n",
    "    def hire(self, name, wage):\n",
    "        return Employee(name, wage)\n",
    "\n",
    "# better representation\n",
    "class Manager(Employee):\n",
    "    \n",
    "    def hire(self, name, wage):\n",
    "        return Employee(name, wage)\n",
    "```"
   ]
  },
  {
   "cell_type": "markdown",
   "metadata": {},
   "source": [
    "### Class Naming\n",
    "\n",
    "Class names should represent an object and thus shouldn't be named after verbs."
   ]
  },
  {
   "cell_type": "markdown",
   "metadata": {},
   "source": [
    "### Data\n",
    "\n",
    "Data/properties are anything the object hangs on to that is part of the object. Some rules of thumb about parameters:\n",
    "* **Keep the number of properties below 7.** Just as with functions, the number of simultaneous things you can keep in your mind shouldn't be more than 7. If there are more than 7 properties you should break up the class into subclasses and/or other routines."
   ]
  },
  {
   "cell_type": "markdown",
   "metadata": {},
   "source": [
    "### Methods/Functions/Behavior\n",
    "\n",
    "Methods are functions attached to classes. They can only operate on the object it is attached to. Generally, the same rules apply to methods as for generic functions. The only difference is that in names, the object does not need to be added since it is implicit:\n",
    "```python\n",
    "# the following are roughly equivalent\n",
    "\n",
    "# the functional way\n",
    "def pay_employee(employee, wage, hours):\n",
    "    paycheck = wage * hours\n",
    "    print(\"{} made {}\".format(employee, paycheck))\n",
    "    \n",
    "\n",
    "# the object-oriented way\n",
    "class Employee:\n",
    "    ...\n",
    "    \n",
    "    def pay(self):\n",
    "        paycheck = self.hours_worked * self.wage\n",
    "        print(\"{} made {}\".format(self.name, paycheck)\n",
    "```"
   ]
  },
  {
   "cell_type": "markdown",
   "metadata": {},
   "source": [
    "### Inheritance & Encapsulation\n",
    "\n",
    "Inheritance is the idea that classes can absorb the data and properties of another class. The rule of whether you can inherit another class (e.g. employee, manager, etc) is simple:\n",
    "**If the new class \"is a\" old class, you should inherit.**\n",
    "\n",
    "E.g. ``Manager`` can inherit from ``Employee`` because a manager **is** an employee.\n",
    "\n",
    "```python\n",
    "class Manager(Employee):\n",
    "    ...\n",
    "```\n",
    "\n",
    "Encapsulation is the idea that one class can contain the other. The rule is just as simple as for inheritance: \n",
    "**If the new class \"has a\" old class, you should encapsulate.**\n",
    "\n",
    "E.g. A ``Store`` can have many ``Employee``s, but obviously a ``Store`` isn't an employee, thus it would look something like this:\n",
    "\n",
    "```python\n",
    "class Store:\n",
    "    location = '2950 Old Spanish Trail'\n",
    "    employees = []\n",
    "    \n",
    "    def assign_employee(self, employee):\n",
    "        self.employees.append(employee)\n",
    "```\n",
    "        "
   ]
  },
  {
   "cell_type": "markdown",
   "metadata": {},
   "source": [
    "### Checklist for creating high-quality classes\n",
    "\n",
    "* Does the class have a central purpose?\n",
    "* Does the class represent one single object?\n",
    "* Is the class well-named, describing the central purpose/object?\n",
    "* Can you treat the object as a black box? I.e. do the methods clearly describe what it does to the object?\n",
    "* Are there <7 properties?"
   ]
  },
  {
   "cell_type": "code",
   "execution_count": null,
   "metadata": {
    "collapsed": true
   },
   "outputs": [],
   "source": []
  }
 ],
 "metadata": {
  "kernelspec": {
   "display_name": "Python 3",
   "language": "python",
   "name": "python3"
  },
  "language_info": {
   "codemirror_mode": {
    "name": "ipython",
    "version": 3
   },
   "file_extension": ".py",
   "mimetype": "text/x-python",
   "name": "python",
   "nbconvert_exporter": "python",
   "pygments_lexer": "ipython3",
   "version": "3.4.3"
  }
 },
 "nbformat": 4,
 "nbformat_minor": 0
}
