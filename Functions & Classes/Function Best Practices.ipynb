{
 "cells": [
  {
   "cell_type": "markdown",
   "metadata": {},
   "source": [
    "# Function Best Practices\n",
    "\n",
    "Functions (aka routines), after single-line statements, are the next evolution in complexity management."
   ]
  },
  {
   "cell_type": "markdown",
   "metadata": {},
   "source": [
    "### Functions should do one thing and do it well\n",
    "\n",
    "Functions "
   ]
  },
  {
   "cell_type": "markdown",
   "metadata": {},
   "source": [
    "### Reasons to create a routine\n",
    "\n",
    "* Reduce & isolate complexity\n",
    "* Introduce an abstraction\n",
    "* Avoid duplicate code\n",
    "* Hide implementation details"
   ]
  },
  {
   "cell_type": "markdown",
   "metadata": {},
   "source": [
    "### Function Naming\n",
    "\n",
    "Function names should follow a few guidelines:\n",
    "* **Describe everything the routine does.** \n",
    "* **Be specific.** Names like ``process_output()`` is too generic; ``find_nearest_point()`` is more specific.\n",
    "* **Don't differentiate similar routines by number.** ``open_file2()`` doesn't say anything about it's difference to ``open_file()``, whereas ``open_zip_file()`` does.\n",
    "* **Use a strong verb followed by an object.**\n",
    "* **Use opposites for pairs.** Like variables, functions should use appropriate opposites, like ``open_file()`` and ``close_file()`` and ``start_timer()`` and ``stop_timer()``. \n",
    "* **Unlike variables, length shouldn't be a concern.** Functions are usually more complicated than variables, so use a name that fully describes what the function does. \n",
    "  "
   ]
  },
  {
   "cell_type": "code",
   "execution_count": null,
   "metadata": {
    "collapsed": true
   },
   "outputs": [],
   "source": []
  }
 ],
 "metadata": {
  "kernelspec": {
   "display_name": "Python 3",
   "language": "python",
   "name": "python3"
  },
  "language_info": {
   "codemirror_mode": {
    "name": "ipython",
    "version": 3
   },
   "file_extension": ".py",
   "mimetype": "text/x-python",
   "name": "python",
   "nbconvert_exporter": "python",
   "pygments_lexer": "ipython3",
   "version": "3.4.3"
  }
 },
 "nbformat": 4,
 "nbformat_minor": 0
}
