{
 "cells": [
  {
   "cell_type": "markdown",
   "metadata": {},
   "source": [
    "# A Python implementation of Assignment #3\n",
    "\n",
    "As a reminder, here is assignment #3: Write a program to determine the center pixel of this CBCT image: https://github.com/jrkerns/MDA_workshop/blob/master/Data/CBCT.dcm?raw=true\n",
    "\n",
    "There are multiple valid ways to accomplish finding the center of the phantom. I will show two strategies. \n",
    "\n",
    "Strategy #1: Sum the array along each axis and find the maximum value of each profile. The center of the phantom is where the phantom is widest (since it's a circle). The maximum value will be a surrogate for the phantom center.\n",
    "\n",
    "Strategy #2: Convert the image to binary (black & white) and use a region-finding algorithm to \"detect\" the phantom. The region algorithm has several properties including the geometric center.\n",
    "\n",
    "Since most of you are using MATLAB I've done this in Python so you can 1) see how to do it in a language you're not familiar with and 2) you have a template, not verbatim solution. Constructing an equivalent Matlab script shouldn't be difficult. The key functions to know are:\n",
    "* [websave](http://www.mathworks.com/help/matlab/ref/websave.html?refresh=true) - Saves a URL to a local file. Note that you need 2014b or later. If you have an earlier version you can download the file manually and point to the file location, although this isn't reproducable across devices.\n",
    "* [dicomread](http://www.mathworks.com/help/images/ref/dicomread.html) - Reads the image portion of a DICOM file.\n",
    "* [regionprops](http://www.mathworks.com/help/images/ref/regionprops.html) - Finds connected \"blobs\" in a black & white image. Note that you'll have to [convert the DICOM image to black & white](http://www.mathworks.com/help/images/ref/im2bw.html).\n",
    "* Basic array operations like [sum](http://www.mathworks.com/help/matlab/ref/sum.html), [mean](http://www.mathworks.com/help/matlab/ref/mean.html), and [max](http://www.mathworks.com/help/matlab/ref/max.html)."
   ]
  },
  {
   "cell_type": "markdown",
   "metadata": {},
   "source": [
    "### Step 0: Retrieving & loading in the file\n",
    "\n",
    "First, our imports:"
   ]
  },
  {
   "cell_type": "code",
   "execution_count": 172,
   "metadata": {
    "collapsed": false
   },
   "outputs": [],
   "source": [
    "%matplotlib inline\n",
    "\n",
    "from urllib.request import urlretrieve  # a standard library function for downloading URLs: https://docs.python.org/3.4/library/urllib.request.html#urllib.request.urlretrieve\n",
    "\n",
    "import matplotlib.pyplot as plt  # a plotting library similar to MATLAB's: http://matplotlib.org/\n",
    "import numpy as np  # **the** scientific package for doing numerical computing in Python: http://www.numpy.org/\n",
    "import dicom  # a DICOM-reading library: http://pydicom.readthedocs.org/en/latest/getting_started.html\n",
    "from skimage import measure  # an image processing library: http://scikit-image.org/"
   ]
  },
  {
   "cell_type": "markdown",
   "metadata": {},
   "source": [
    "Let's download and load the image array into Python."
   ]
  },
  {
   "cell_type": "code",
   "execution_count": 173,
   "metadata": {
    "collapsed": false
   },
   "outputs": [],
   "source": [
    "url = 'https://github.com/jrkerns/MDA_workshop/blob/master/Data/CBCT.dcm?raw=true'\n",
    "file_path, _ = urlretrieve(url)"
   ]
  },
  {
   "cell_type": "markdown",
   "metadata": {},
   "source": [
    "We've now downloaded the file; the location is given by ``file_path`` (it's a temporary location)."
   ]
  },
  {
   "cell_type": "code",
   "execution_count": 174,
   "metadata": {
    "collapsed": false
   },
   "outputs": [
    {
     "data": {
      "text/plain": [
       "'/tmp/tmplb8znpow'"
      ]
     },
     "execution_count": 174,
     "metadata": {},
     "output_type": "execute_result"
    }
   ],
   "source": [
    "file_path"
   ]
  },
  {
   "cell_type": "code",
   "execution_count": 175,
   "metadata": {
    "collapsed": true
   },
   "outputs": [],
   "source": [
    "dcm_dataset = dicom.read_file(file_path)"
   ]
  },
  {
   "cell_type": "markdown",
   "metadata": {},
   "source": [
    "We've now read in the dicom file using the ``dicom`` library. This returns us the DICOM dataset. We can now view and access all DICOM tags:"
   ]
  },
  {
   "cell_type": "code",
   "execution_count": 176,
   "metadata": {
    "collapsed": false
   },
   "outputs": [
    {
     "data": {
      "text/plain": [
       "(0008, 0008) Image Type                          CS: ['ORIGINAL', 'PRIMARY', 'AXIAL']\n",
       "(0008, 0012) Instance Creation Date              DA: '20120626'\n",
       "(0008, 0013) Instance Creation Time              TM: '184832'\n",
       "(0008, 0016) SOP Class UID                       UI: CT Image Storage\n",
       "(0008, 0018) SOP Instance UID                    UI: 1.2.246.352.63.1.5401512045945835147.16659656049063764631\n",
       "(0008, 0020) Study Date                          DA: '20120620'\n",
       "(0008, 0021) Series Date                         DA: '20120626'\n",
       "(0008, 0023) Content Date                        DA: '20120626'\n",
       "(0008, 0030) Study Time                          TM: '124418'\n",
       "(0008, 0031) Series Time                         TM: '184527.919'\n",
       "(0008, 0033) Content Time                        TM: '184816.263'\n",
       "(0008, 0050) Accession Number                    SH: ''\n",
       "(0008, 0060) Modality                            CS: 'CT'\n",
       "(0008, 0070) Manufacturer                        LO: 'Varian Medical Systems'\n",
       "(0008, 0090) Referring Physician's Name          PN: ''\n",
       "(0008, 1010) Station Name                        SH: 'OBIWS'\n",
       "(0008, 1090) Manufacturer's Model Name           LO: 'OBI Cone-beam CT'\n",
       "(0010, 0010) Patient's Name                      PN: 'ZZZOBIACB1^ACB1'\n",
       "(0010, 0020) Patient ID                          LO: 'ZZZOBIACB1'\n",
       "(0010, 0030) Patient's Birth Date                DA: ''\n",
       "(0010, 0040) Patient's Sex                       CS: 'O'\n",
       "(0018, 0022) Scan Options                        CS: 'SHARP'\n",
       "(0018, 0050) Slice Thickness                     DS: '2.5'\n",
       "(0018, 0060) KVP                                 DS: '100'\n",
       "(0018, 0090) Data Collection Diameter            DS: '250'\n",
       "(0018, 1020) Software Version(s)                 LO: '2.1.5.3'\n",
       "(0018, 1100) Reconstruction Diameter             DS: '250'\n",
       "(0018, 1110) Distance Source to Detector         DS: '1500.02092553799'\n",
       "(0018, 1111) Distance Source to Patient          DS: '0'\n",
       "(0018, 1120) Gantry/Detector Tilt                DS: '0'\n",
       "(0018, 1130) Table Height                        DS: '138'\n",
       "(0018, 1150) Exposure Time                       IS: '9075'\n",
       "(0018, 1151) X-Ray Tube Current                  IS: '80'\n",
       "(0018, 1152) Exposure                            IS: '726'\n",
       "(0018, 1190) Focal Spot(s)                       DS: '0.1'\n",
       "(0018, 1210) Convolution Kernel                  SH: 'Ram-Lak'\n",
       "(0018, 5100) Patient Position                    CS: 'HFS'\n",
       "(0020, 000d) Study Instance UID                  UI: 1.2.840.113854.19.1.1.20120620.124418\n",
       "(0020, 000e) Series Instance UID                 UI: 1.2.246.352.61.2.5147840527645334612.15241426881197360286\n",
       "(0020, 0010) Study ID                            SH: '4DC Treatment'\n",
       "(0020, 0011) Series Number                       IS: '0'\n",
       "(0020, 0012) Acquisition Number                  IS: '1'\n",
       "(0020, 0013) Instance Number                     IS: '32'\n",
       "(0020, 0032) Image Position (Patient)            DS: ['-249.75243578348', '-249.755859375', '-1.3077126463726']\n",
       "(0020, 0037) Image Orientation (Patient)         DS: ['0.99998629224743', '0', '0.00523596383142', '0', '1', '0']\n",
       "(0020, 0052) Frame of Reference UID              UI: 1.2.246.352.63.3.5313384905400435381.16370633616182801067\n",
       "(0020, 1040) Position Reference Indicator        LO: ''\n",
       "(0028, 0002) Samples per Pixel                   US: 1\n",
       "(0028, 0004) Photometric Interpretation          CS: 'MONOCHROME2'\n",
       "(0028, 0010) Rows                                US: 512\n",
       "(0028, 0011) Columns                             US: 512\n",
       "(0028, 0030) Pixel Spacing                       DS: ['0.48828125', '0.48828125']\n",
       "(0028, 0100) Bits Allocated                      US: 16\n",
       "(0028, 0101) Bits Stored                         US: 16\n",
       "(0028, 0102) High Bit                            US: 15\n",
       "(0028, 0103) Pixel Representation                US: 0\n",
       "(0028, 1050) Window Center                       DS: '-68'\n",
       "(0028, 1051) Window Width                        DS: '382'\n",
       "(0028, 1052) Rescale Intercept                   DS: '-1000'\n",
       "(0028, 1053) Rescale Slope                       DS: '1'\n",
       "(300a, 0122) Patient Support Angle               DS: '359.7'\n",
       "(300a, 0129) Table Top Longitudinal Position     DS: '539'\n",
       "(300a, 012a) Table Top Lateral Position          DS: '1'\n",
       "(7fe0, 0010) Pixel Data                          OB or OW: Array of 524288 bytes"
      ]
     },
     "execution_count": 176,
     "metadata": {},
     "output_type": "execute_result"
    }
   ],
   "source": [
    "dcm_dataset"
   ]
  },
  {
   "cell_type": "markdown",
   "metadata": {},
   "source": [
    "We can access individual tags:"
   ]
  },
  {
   "cell_type": "code",
   "execution_count": 177,
   "metadata": {
    "collapsed": false
   },
   "outputs": [
    {
     "data": {
      "text/plain": [
       "'539'"
      ]
     },
     "execution_count": 177,
     "metadata": {},
     "output_type": "execute_result"
    }
   ],
   "source": [
    "dcm_dataset.TableTopLongitudinalPosition"
   ]
  },
  {
   "cell_type": "markdown",
   "metadata": {},
   "source": [
    "For our purposes, the important tag is Pixel Data, which is actually a raw string. The ``dicom`` library gives us a property that returns an array: ``pixel_array``"
   ]
  },
  {
   "cell_type": "code",
   "execution_count": 178,
   "metadata": {
    "collapsed": false
   },
   "outputs": [
    {
     "data": {
      "text/plain": [
       "array([[0, 0, 0, ..., 0, 0, 0],\n",
       "       [0, 0, 0, ..., 0, 0, 0],\n",
       "       [0, 0, 0, ..., 0, 0, 0],\n",
       "       ..., \n",
       "       [0, 0, 0, ..., 0, 0, 0],\n",
       "       [0, 0, 0, ..., 0, 0, 0],\n",
       "       [0, 0, 0, ..., 0, 0, 0]], dtype=uint16)"
      ]
     },
     "execution_count": 178,
     "metadata": {},
     "output_type": "execute_result"
    }
   ],
   "source": [
    "dcm_dataset.pixel_array"
   ]
  },
  {
   "cell_type": "markdown",
   "metadata": {},
   "source": [
    "Let's plot it to make sure it's what we think it is:"
   ]
  },
  {
   "cell_type": "code",
   "execution_count": 179,
   "metadata": {
    "collapsed": false
   },
   "outputs": [
    {
     "data": {
      "text/plain": [
       "<matplotlib.image.AxesImage at 0x7f3df94a2e10>"
      ]
     },
     "execution_count": 179,
     "metadata": {},
     "output_type": "execute_result"
    },
    {
     "data": {
      "image/png": "[encoded data removed]",
      "text/plain": [
       "<matplotlib.figure.Figure at 0x7f3df94e3438>"
      ]
     },
     "metadata": {},
     "output_type": "display_data"
    }
   ],
   "source": [
    "plt.imshow(dcm_dataset.pixel_array)"
   ]
  },
  {
   "cell_type": "markdown",
   "metadata": {},
   "source": [
    "Okay, so the ``pixel_array`` attribute is what we think it is. For brevity, let's make a shorter variable name:"
   ]
  },
  {
   "cell_type": "code",
   "execution_count": 180,
   "metadata": {
    "collapsed": false
   },
   "outputs": [],
   "source": [
    "img = dcm_dataset.pixel_array"
   ]
  },
  {
   "cell_type": "markdown",
   "metadata": {},
   "source": [
    "### Strategy #1: Using the sums of each axis\n",
    "\n",
    "For this strategy we use the assumption that the phantom is circular and that the maximum value of the sum of a profile will be the midpoint. Apply the strategy to each axis (rows, columns) and viola!"
   ]
  },
  {
   "cell_type": "code",
   "execution_count": 181,
   "metadata": {
    "collapsed": false
   },
   "outputs": [
    {
     "data": {
      "text/plain": [
       "<matplotlib.text.Text at 0x7f3df9468198>"
      ]
     },
     "execution_count": 181,
     "metadata": {},
     "output_type": "execute_result"
    },
    {
     "data": {
      "image/png": "[encoded data removed]",
      "text/plain": [
       "<matplotlib.figure.Figure at 0x7f3df94b6278>"
      ]
     },
     "metadata": {},
     "output_type": "display_data"
    }
   ],
   "source": [
    "y_axis_sum = img.sum(axis=1)\n",
    "plt.plot(y_axis_sum)\n",
    "plt.title(\"Y-Axis sum of the image\", fontsize=22)"
   ]
  },
  {
   "cell_type": "markdown",
   "metadata": {},
   "source": [
    "So far so good. We've summed the image and as we would expect the values increase and the center of the phantom is probably where the maximum value of the profile is. Let's get that index."
   ]
  },
  {
   "cell_type": "code",
   "execution_count": 182,
   "metadata": {
    "collapsed": false
   },
   "outputs": [
    {
     "data": {
      "text/plain": [
       "449252"
      ]
     },
     "execution_count": 182,
     "metadata": {},
     "output_type": "execute_result"
    }
   ],
   "source": [
    "y_axis_sum.max()  # the actual value"
   ]
  },
  {
   "cell_type": "code",
   "execution_count": 183,
   "metadata": {
    "collapsed": false
   },
   "outputs": [
    {
     "data": {
      "text/plain": [
       "255"
      ]
     },
     "execution_count": 183,
     "metadata": {},
     "output_type": "execute_result"
    }
   ],
   "source": [
    "y_axis_sum.argmax()  # the index"
   ]
  },
  {
   "cell_type": "markdown",
   "metadata": {},
   "source": [
    "Perfect! we know the maximum y-value is at index 255 and we assume that is the y-center of the phantom. Let's go to the x-axis:"
   ]
  },
  {
   "cell_type": "code",
   "execution_count": 184,
   "metadata": {
    "collapsed": true
   },
   "outputs": [],
   "source": [
    "y_center = y_axis_sum.argmax()"
   ]
  },
  {
   "cell_type": "code",
   "execution_count": 185,
   "metadata": {
    "collapsed": false
   },
   "outputs": [
    {
     "data": {
      "text/plain": [
       "<matplotlib.text.Text at 0x7f3df93cf7f0>"
      ]
     },
     "execution_count": 185,
     "metadata": {},
     "output_type": "execute_result"
    },
    {
     "data": {
      "image/png": "[encoded data removed]",
      "text/plain": [
       "<matplotlib.figure.Figure at 0x7f3df9462128>"
      ]
     },
     "metadata": {},
     "output_type": "display_data"
    }
   ],
   "source": [
    "x_axis_sum = img.sum(axis=0)\n",
    "plt.plot(x_axis_sum)\n",
    "plt.title(\"X-axis sum of the image\", fontsize=22)"
   ]
  },
  {
   "cell_type": "markdown",
   "metadata": {},
   "source": [
    "Uh-oh! The maximum value isn't near the center. Looking back at the image it's clear now that the HU bubbles are throwing off our maximum value (the red circle on the image is the peak on the right; the blue circles make the dip in the center).\n",
    "\n",
    "We can infer that the center is probably right in the middle of that dip. The easist way to get that value is to search for the *minimum* in the central area of the plot. Using the above plot, we can see that we should search between the indices of ~200 to ~300."
   ]
  },
  {
   "cell_type": "code",
   "execution_count": 186,
   "metadata": {
    "collapsed": false
   },
   "outputs": [
    {
     "data": {
      "text/plain": [
       "[<matplotlib.lines.Line2D at 0x7f3df93cc4a8>]"
      ]
     },
     "execution_count": 186,
     "metadata": {},
     "output_type": "execute_result"
    },
    {
     "data": {
      "image/png": "[encoded data removed]",
      "text/plain": [
       "<matplotlib.figure.Figure at 0x7f3df9446630>"
      ]
     },
     "metadata": {},
     "output_type": "display_data"
    }
   ],
   "source": [
    "center_region = x_axis_sum[200:300]\n",
    "plt.plot(center_region)"
   ]
  },
  {
   "cell_type": "markdown",
   "metadata": {},
   "source": [
    "As a surrogate, let's search for the minimum value:"
   ]
  },
  {
   "cell_type": "code",
   "execution_count": 187,
   "metadata": {
    "collapsed": false
   },
   "outputs": [
    {
     "data": {
      "text/plain": [
       "392044"
      ]
     },
     "execution_count": 187,
     "metadata": {},
     "output_type": "execute_result"
    }
   ],
   "source": [
    "center_region.min()"
   ]
  },
  {
   "cell_type": "code",
   "execution_count": 188,
   "metadata": {
    "collapsed": false
   },
   "outputs": [
    {
     "data": {
      "text/plain": [
       "56"
      ]
     },
     "execution_count": 188,
     "metadata": {},
     "output_type": "execute_result"
    }
   ],
   "source": [
    "center_region.argmin()"
   ]
  },
  {
   "cell_type": "markdown",
   "metadata": {},
   "source": [
    "56 is indeed the index in the middle of the dip. We can add that value to the left edge of the section we sampled to get the true x-center."
   ]
  },
  {
   "cell_type": "code",
   "execution_count": 189,
   "metadata": {
    "collapsed": true
   },
   "outputs": [],
   "source": [
    "x_center = center_region.argmin() + 200"
   ]
  },
  {
   "cell_type": "markdown",
   "metadata": {},
   "source": [
    "We've now determined the center of the image:"
   ]
  },
  {
   "cell_type": "code",
   "execution_count": 190,
   "metadata": {
    "collapsed": false
   },
   "outputs": [
    {
     "name": "stdout",
     "output_type": "stream",
     "text": [
      "The image center is at x=256, y=255\n"
     ]
    }
   ],
   "source": [
    "print('The image center is at x={}, y={}'.format(x_center, y_center))"
   ]
  },
  {
   "cell_type": "markdown",
   "metadata": {},
   "source": [
    "Looking at the image, this appears to be close to the real value. We did it!"
   ]
  },
  {
   "cell_type": "markdown",
   "metadata": {},
   "source": [
    "### Strategy #2: Use a region-finding algorithm\n",
    "\n",
    "Now, after seeing this strategy you may say \"Cheater!\", but that would be unfair. In real life, *any* strategy is valid, even if you aren't the one to come up with that algorithm. When possible, don't use your own code!\n",
    "\n",
    "For this strategy, we'll use a region-finding algorithm. But first we have to convert the image to black and white. To do so, I'll set all the pixels < 100 to 0, and all other pixels to 1. "
   ]
  },
  {
   "cell_type": "code",
   "execution_count": 191,
   "metadata": {
    "collapsed": false
   },
   "outputs": [
    {
     "data": {
      "text/plain": [
       "<matplotlib.image.AxesImage at 0x7f3df9337390>"
      ]
     },
     "execution_count": 191,
     "metadata": {},
     "output_type": "execute_result"
    },
    {
     "data": {
      "image/png": "[encoded data removed]",
      "text/plain": [
       "<matplotlib.figure.Figure at 0x7f3df93a4358>"
      ]
     },
     "metadata": {},
     "output_type": "display_data"
    }
   ],
   "source": [
    "img[img < 100] = 0\n",
    "img[img >= 100] = 1\n",
    "plt.imshow(img)"
   ]
  },
  {
   "cell_type": "markdown",
   "metadata": {},
   "source": [
    "``img`` is now a black and white image. We want to detect connected pixels, or \"blobs\". To do that we use a label algorithm: http://scikit-image.org/docs/dev/api/skimage.measure.html#label"
   ]
  },
  {
   "cell_type": "code",
   "execution_count": 192,
   "metadata": {
    "collapsed": false
   },
   "outputs": [
    {
     "data": {
      "text/plain": [
       "<matplotlib.image.AxesImage at 0x7f3df9290438>"
      ]
     },
     "execution_count": 192,
     "metadata": {},
     "output_type": "execute_result"
    },
    {
     "data": {
      "image/png": "[encoded data removed]",
      "text/plain": [
       "<matplotlib.figure.Figure at 0x7f3df92d7160>"
      ]
     },
     "metadata": {},
     "output_type": "display_data"
    }
   ],
   "source": [
    "labeled_img = measure.label(img)\n",
    "plt.imshow(labeled_img)"
   ]
  },
  {
   "cell_type": "markdown",
   "metadata": {},
   "source": [
    "``labeled_img`` is an array where each connected region (blob) is set to the same value. E.g. all 0's are one connected blob, all 1's, all 2's, etc.\n",
    "\n",
    "With this labeled array, we can now find region properties: http://scikit-image.org/docs/dev/api/skimage.measure.html#regionprops"
   ]
  },
  {
   "cell_type": "code",
   "execution_count": 193,
   "metadata": {
    "collapsed": false
   },
   "outputs": [],
   "source": [
    "regionprops = measure.regionprops(labeled_img)"
   ]
  },
  {
   "cell_type": "markdown",
   "metadata": {},
   "source": [
    "``regionprops`` is a list holding attributes for each blob found. We can access each element and property. "
   ]
  },
  {
   "cell_type": "code",
   "execution_count": 194,
   "metadata": {
    "collapsed": false
   },
   "outputs": [
    {
     "data": {
      "text/plain": [
       "17.0"
      ]
     },
     "execution_count": 194,
     "metadata": {},
     "output_type": "execute_result"
    }
   ],
   "source": [
    "regionprops[1].area"
   ]
  },
  {
   "cell_type": "code",
   "execution_count": 195,
   "metadata": {
    "collapsed": false
   },
   "outputs": [
    {
     "data": {
      "text/plain": [
       "(121.0, 32.0)"
      ]
     },
     "execution_count": 195,
     "metadata": {},
     "output_type": "execute_result"
    }
   ],
   "source": [
    "regionprops[20].centroid"
   ]
  },
  {
   "cell_type": "markdown",
   "metadata": {},
   "source": [
    "What we need to do is find the blob that is the phantom. To do so we'll use one of the available properties: eccentricity. Eccentricity is the measure of how \"circular\" the blob is. 0 is a perfect circle; 1 is a line."
   ]
  },
  {
   "cell_type": "code",
   "execution_count": 196,
   "metadata": {
    "collapsed": false
   },
   "outputs": [
    {
     "name": "stdout",
     "output_type": "stream",
     "text": [
      "0.9993725796554175\n",
      "0.9991698959997332\n",
      "0.997871556110168\n",
      "0.998966611871766\n",
      "0.9970912219551324\n",
      "0.09367924267683325\n",
      "1.0\n",
      "1.0\n",
      "0\n",
      "1.0\n"
     ]
    }
   ],
   "source": [
    "for prop in regionprops[:10]:  # print the first 20 eccentricities\n",
    "    print(prop.eccentricity)"
   ]
  },
  {
   "cell_type": "markdown",
   "metadata": {},
   "source": [
    "Hmmm, clearly eccentricity alone won't find us the phantom. We should also search for a very large blob, as the phantom is one of the largest blobs in the image."
   ]
  },
  {
   "cell_type": "code",
   "execution_count": 197,
   "metadata": {
    "collapsed": false
   },
   "outputs": [
    {
     "name": "stdout",
     "output_type": "stream",
     "text": [
      "Ecc.:  0.9993725796554175 Area: 62.0\n",
      "Ecc.:  0.9991698959997332 Area: 17.0\n",
      "Ecc.:  0.997871556110168 Area: 11.0\n",
      "Ecc.:  0.998966611871766 Area: 14.0\n",
      "Ecc.:  0.9970912219551324 Area: 7.0\n",
      "Ecc.:  0.09367924267683325 Area: 133931.0\n",
      "Ecc.:  1.0 Area: 4.0\n",
      "Ecc.:  1.0 Area: 5.0\n",
      "Ecc.:  0 Area: 1.0\n",
      "Ecc.:  1.0 Area: 24.0\n"
     ]
    }
   ],
   "source": [
    "for prop in regionprops[:10]:\n",
    "    print(\"Ecc.: \", prop.eccentricity, \"Area:\", prop.area)"
   ]
  },
  {
   "cell_type": "markdown",
   "metadata": {},
   "source": [
    "The 5th element looks promising. Let's see if other properties match up to the phantom."
   ]
  },
  {
   "cell_type": "code",
   "execution_count": 198,
   "metadata": {
    "collapsed": false
   },
   "outputs": [
    {
     "name": "stdout",
     "output_type": "stream",
     "text": [
      "Area: 133931.0\n",
      "Eccentricity: 0.09367924267683325\n",
      "Bounding Box: (48, 50, 462, 465)\n"
     ]
    }
   ],
   "source": [
    "phantom_prop = regionprops[5]\n",
    "print(\"Area:\", phantom_prop.area)\n",
    "print(\"Eccentricity:\", phantom_prop.eccentricity)\n",
    "print(\"Bounding Box:\", phantom_prop.bbox)"
   ]
  },
  {
   "cell_type": "markdown",
   "metadata": {},
   "source": [
    "So far so good! We can check whether the blob is the phantom by checking the bounding box. This is the extent of the blob in the format (ymin, xmin, ymax, xmax). Looking back at the phantom image this is indeed the edges of the phantom. We've found it! Now just find the center:"
   ]
  },
  {
   "cell_type": "code",
   "execution_count": 199,
   "metadata": {
    "collapsed": false
   },
   "outputs": [
    {
     "name": "stdout",
     "output_type": "stream",
     "text": [
      "The phantom center is x=257, y=255\n"
     ]
    }
   ],
   "source": [
    "print(\"The phantom center is x={:.0f}, y={:.0f}\".format(phantom_prop.centroid[1], phantom_prop.centroid[0]))"
   ]
  },
  {
   "cell_type": "markdown",
   "metadata": {},
   "source": [
    "This is very close to our first algorithm and matches eyeball values, so we know we did it right. \n",
    "\n",
    "### There you have it: two ways to find the phantom center, both valid and both very different."
   ]
  },
  {
   "cell_type": "code",
   "execution_count": null,
   "metadata": {
    "collapsed": true
   },
   "outputs": [],
   "source": []
  }
 ],
 "metadata": {
  "kernelspec": {
   "display_name": "Python 3",
   "language": "python",
   "name": "python3"
  },
  "language_info": {
   "codemirror_mode": {
    "name": "ipython",
    "version": 3
   },
   "file_extension": ".py",
   "mimetype": "text/x-python",
   "name": "python",
   "nbconvert_exporter": "python",
   "pygments_lexer": "ipython3",
   "version": "3.4.3"
  }
 },
 "nbformat": 4,
 "nbformat_minor": 0
}
