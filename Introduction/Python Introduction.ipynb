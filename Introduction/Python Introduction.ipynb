{
 "cells": [
  {
   "cell_type": "markdown",
   "metadata": {},
   "source": [
    "# Introduction to Python\n",
    "\n",
    "This notebook introduces Python's syntax and the major differences between MATLAB.\n",
    "\n",
    "As with MATLAB, variables can easily be set and changed (i.e. dynamic)."
   ]
  },
  {
   "cell_type": "code",
   "execution_count": 5,
   "metadata": {
    "collapsed": true
   },
   "outputs": [],
   "source": [
    "x = 42\n",
    "y = x + 6\n",
    "x = 'Hello world'"
   ]
  },
  {
   "cell_type": "markdown",
   "metadata": {},
   "source": [
    "No semicolons need to be used to suppress the output. The assumption is the opposite: only see what you want to see.\n",
    "\n",
    "To view the data, simply enter the variable on it's own line:"
   ]
  },
  {
   "cell_type": "code",
   "execution_count": 6,
   "metadata": {
    "collapsed": false
   },
   "outputs": [
    {
     "data": {
      "text/plain": [
       "48"
      ]
     },
     "execution_count": 6,
     "metadata": {},
     "output_type": "execute_result"
    }
   ],
   "source": [
    "y"
   ]
  },
  {
   "cell_type": "markdown",
   "metadata": {},
   "source": [
    "Python's data types are comparable to MATLAB's:"
   ]
  },
  {
   "cell_type": "code",
   "execution_count": 11,
   "metadata": {
    "collapsed": true
   },
   "outputs": [],
   "source": [
    "a = 5\n",
    "b = [1, 2, 4, 8]  # a list; a collection of any data types\n",
    "c = {5: 'five'}  # a dictionary holds data by key\n",
    "d = (5, 6, 7)  # a tuple is just like a list, but is immutable"
   ]
  },
  {
   "cell_type": "markdown",
   "metadata": {},
   "source": [
    "The first major difference is that Python uses parentheses to call a function, while brackets are used for indexing. That way it's clear what you're doing.\n",
    "\n",
    "Also, indexing is 0-based, as opposed to 1-based in MATLAB."
   ]
  },
  {
   "cell_type": "code",
   "execution_count": 13,
   "metadata": {
    "collapsed": false
   },
   "outputs": [
    {
     "data": {
      "text/plain": [
       "1"
      ]
     },
     "execution_count": 13,
     "metadata": {},
     "output_type": "execute_result"
    }
   ],
   "source": [
    "b[0]"
   ]
  },
  {
   "cell_type": "markdown",
   "metadata": {},
   "source": [
    "The other huge difference is that objects are passed-by-reference:"
   ]
  },
  {
   "cell_type": "code",
   "execution_count": 15,
   "metadata": {
    "collapsed": false
   },
   "outputs": [
    {
     "data": {
      "text/plain": [
       "[-100, 2, 4, 8]"
      ]
     },
     "execution_count": 15,
     "metadata": {},
     "output_type": "execute_result"
    }
   ],
   "source": [
    "e = b\n",
    "b[0] = -100\n",
    "e"
   ]
  },
  {
   "cell_type": "markdown",
   "metadata": {},
   "source": [
    "#### Functions are easy\n",
    "\n",
    "Unlike MATLAB where functions must be put into their own file, functions can be defined anywhere:"
   ]
  },
  {
   "cell_type": "code",
   "execution_count": 16,
   "metadata": {
    "collapsed": false
   },
   "outputs": [
    {
     "name": "stdout",
     "output_type": "stream",
     "text": [
      "Hello world\n"
     ]
    }
   ],
   "source": [
    "def hello_world():\n",
    "    print('Hello world')\n",
    "\n",
    "hello_world()"
   ]
  },
  {
   "cell_type": "code",
   "execution_count": 17,
   "metadata": {
    "collapsed": false
   },
   "outputs": [
    {
     "name": "stdout",
     "output_type": "stream",
     "text": [
      "Hello, James\n"
     ]
    }
   ],
   "source": [
    "def hello(name):\n",
    "    print('Hello, ' + name)\n",
    "\n",
    "myname = 'James'\n",
    "hello(myname)"
   ]
  },
  {
   "cell_type": "markdown",
   "metadata": {},
   "source": [
    "Unlike Matlab, Python functions have **optional & default arguments** (!!!)"
   ]
  },
  {
   "cell_type": "code",
   "execution_count": 28,
   "metadata": {
    "collapsed": false
   },
   "outputs": [],
   "source": [
    "def whats_the_time(name, time='six o clock'):\n",
    "    print(name, \"it's\", time)"
   ]
  },
  {
   "cell_type": "code",
   "execution_count": 29,
   "metadata": {
    "collapsed": false
   },
   "outputs": [
    {
     "name": "stdout",
     "output_type": "stream",
     "text": [
      "Sally it's six o clock\n"
     ]
    }
   ],
   "source": [
    "whats_the_time('Sally')"
   ]
  },
  {
   "cell_type": "code",
   "execution_count": 30,
   "metadata": {
    "collapsed": false
   },
   "outputs": [
    {
     "name": "stdout",
     "output_type": "stream",
     "text": [
      "Biff it's 2am\n"
     ]
    }
   ],
   "source": [
    "whats_the_time('Biff', time='2am')"
   ]
  },
  {
   "cell_type": "markdown",
   "metadata": {},
   "source": [
    "#### Control Flow\n",
    "\n",
    "Control flow is much the same, except for ``for`` loops. For more on Python control flow: https://docs.python.org/3.5/tutorial/controlflow.html"
   ]
  },
  {
   "cell_type": "code",
   "execution_count": 20,
   "metadata": {
    "collapsed": false
   },
   "outputs": [
    {
     "name": "stdout",
     "output_type": "stream",
     "text": [
      "doing if loop\n"
     ]
    }
   ],
   "source": [
    "do_if_loop = True\n",
    "if do_if_loop:\n",
    "    print(\"doing if loop\")\n",
    "else:\n",
    "    print(\"not doing if loop\")"
   ]
  },
  {
   "cell_type": "code",
   "execution_count": 2,
   "metadata": {
    "collapsed": false
   },
   "outputs": [
    {
     "name": "stdout",
     "output_type": "stream",
     "text": [
      "doing stuff in while loop\n",
      "doing stuff in while loop\n",
      "doing stuff in while loop\n",
      "doing stuff in while loop\n",
      "doing stuff in while loop\n"
     ]
    }
   ],
   "source": [
    "num_times = 5\n",
    "while num_times > 0:\n",
    "    print(\"doing stuff in while loop\")\n",
    "    num_times -= 1  # note the in-place modification; equivalent to num_times = num_times - 1"
   ]
  },
  {
   "cell_type": "markdown",
   "metadata": {},
   "source": [
    "For loops act a bit differently; they operate over the items directly!"
   ]
  },
  {
   "cell_type": "code",
   "execution_count": 6,
   "metadata": {
    "collapsed": false
   },
   "outputs": [
    {
     "name": "stdout",
     "output_type": "stream",
     "text": [
      "apple\n",
      "banana\n",
      "pear\n"
     ]
    }
   ],
   "source": [
    "fruits = ['apple', 'banana', 'pear']\n",
    "# for loops loop over the *actual item*\n",
    "for fruit in fruits:\n",
    "    print(fruit)"
   ]
  },
  {
   "cell_type": "markdown",
   "metadata": {},
   "source": [
    "If you still need the index that's easy too."
   ]
  },
  {
   "cell_type": "code",
   "execution_count": 7,
   "metadata": {
    "collapsed": false
   },
   "outputs": [
    {
     "name": "stdout",
     "output_type": "stream",
     "text": [
      "0 is a apple\n",
      "1 is a banana\n",
      "2 is a pear\n"
     ]
    }
   ],
   "source": [
    "for index, fruit in enumerate(fruits):\n",
    "    print(index, 'is a', fruit)"
   ]
  },
  {
   "cell_type": "markdown",
   "metadata": {},
   "source": [
    "The most powerful difference is the ability to iterate in parallel"
   ]
  },
  {
   "cell_type": "code",
   "execution_count": 9,
   "metadata": {
    "collapsed": false
   },
   "outputs": [
    {
     "name": "stdout",
     "output_type": "stream",
     "text": [
      "Tom has a apple\n",
      "Dick has a banana\n",
      "Harry has a pear\n"
     ]
    }
   ],
   "source": [
    "people = ['Tom', 'Dick', 'Harry']\n",
    "\n",
    "for person, fruit in zip(people, fruits):\n",
    "    print(person, 'has a', fruit)"
   ]
  },
  {
   "cell_type": "markdown",
   "metadata": {},
   "source": [
    "#### Comparison Operators\n",
    "\n",
    "Comparison operators are almost exactly the same as Matlab except \"not equal to\". http://www.tutorialspoint.com/python/python_basic_operators.htm"
   ]
  },
  {
   "cell_type": "code",
   "execution_count": 4,
   "metadata": {
    "collapsed": false
   },
   "outputs": [
    {
     "data": {
      "text/plain": [
       "True"
      ]
     },
     "execution_count": 4,
     "metadata": {},
     "output_type": "execute_result"
    }
   ],
   "source": [
    "5 > 3"
   ]
  },
  {
   "cell_type": "code",
   "execution_count": 5,
   "metadata": {
    "collapsed": false
   },
   "outputs": [
    {
     "data": {
      "text/plain": [
       "True"
      ]
     },
     "execution_count": 5,
     "metadata": {},
     "output_type": "execute_result"
    }
   ],
   "source": [
    "8 == 8"
   ]
  },
  {
   "cell_type": "code",
   "execution_count": 6,
   "metadata": {
    "collapsed": false
   },
   "outputs": [
    {
     "data": {
      "text/plain": [
       "True"
      ]
     },
     "execution_count": 6,
     "metadata": {},
     "output_type": "execute_result"
    }
   ],
   "source": [
    "12 >= 9"
   ]
  },
  {
   "cell_type": "code",
   "execution_count": 1,
   "metadata": {
    "collapsed": false
   },
   "outputs": [
    {
     "data": {
      "text/plain": [
       "True"
      ]
     },
     "execution_count": 1,
     "metadata": {},
     "output_type": "execute_result"
    }
   ],
   "source": [
    "2 != 1  # \"not equal to\" statement; Matlab's is \"~=\""
   ]
  },
  {
   "cell_type": "markdown",
   "metadata": {},
   "source": [
    "### Challenge #1: The FizzBuzz test\n",
    "\n",
    "Write a program that prints the numbers from 1 to 100.\n",
    "But for multiples of three print “Fizz” instead of the number and for the multiples of five print “Buzz”.\n",
    "For numbers which are multiples of both three and five print “FizzBuzz”.\n",
    "\n",
    "Hint: For either language, determine how to compute the [modulo](https://en.wikipedia.org/wiki/Modulo_operation)."
   ]
  },
  {
   "cell_type": "markdown",
   "metadata": {},
   "source": [
    "#### Using libaries\n",
    "\n",
    "The use of Python libraries is very easy. Just add an ``import xxx`` to use said module. The big difference is that Matlab implicitly does this for all the paths available to it. Instead, Python asks you to import the module when you need it. This way it's very clear what is available and what isn't."
   ]
  },
  {
   "cell_type": "code",
   "execution_count": 11,
   "metadata": {
    "collapsed": false
   },
   "outputs": [
    {
     "data": {
      "text/plain": [
       "7.0"
      ]
     },
     "execution_count": 11,
     "metadata": {},
     "output_type": "execute_result"
    }
   ],
   "source": [
    "import numpy\n",
    "\n",
    "numpy.mean([5, 6, 10])"
   ]
  },
  {
   "cell_type": "markdown",
   "metadata": {},
   "source": [
    "One can also load specific functions from the module"
   ]
  },
  {
   "cell_type": "code",
   "execution_count": 13,
   "metadata": {
    "collapsed": false
   },
   "outputs": [
    {
     "data": {
      "text/plain": [
       "2.0"
      ]
     },
     "execution_count": 13,
     "metadata": {},
     "output_type": "execute_result"
    }
   ],
   "source": [
    "from numpy import median\n",
    "\n",
    "median([2, 1, 9])"
   ]
  },
  {
   "cell_type": "markdown",
   "metadata": {},
   "source": [
    "#### Namespacing\n",
    "\n",
    "Namespacing is a way of encapsulating functions or objects so as to keep naming clear and consistent. Two libraries may both have a ``mean`` function that do different things. In Matlab, one must avoid this by coming up with vivid function names or doing path gymnastics. This is unnesseccary in Python; just load the libraries and use the functions."
   ]
  },
  {
   "cell_type": "code",
   "execution_count": 18,
   "metadata": {
    "collapsed": false
   },
   "outputs": [
    {
     "data": {
      "text/plain": [
       "6.666666666666667"
      ]
     },
     "execution_count": 18,
     "metadata": {},
     "output_type": "execute_result"
    }
   ],
   "source": [
    "import scipy\n",
    "\n",
    "scipy.mean([5, 6, 9])"
   ]
  },
  {
   "cell_type": "code",
   "execution_count": 20,
   "metadata": {
    "collapsed": false
   },
   "outputs": [
    {
     "data": {
      "text/plain": [
       "3.3333333333333335"
      ]
     },
     "execution_count": 20,
     "metadata": {},
     "output_type": "execute_result"
    }
   ],
   "source": [
    "numpy.mean([4, 2, 4])"
   ]
  },
  {
   "cell_type": "markdown",
   "metadata": {},
   "source": [
    "## Classes & Object-Oriented Programming: The Paradigm Shift\n",
    "\n",
    "Classes are the next evolution in programming. Classes, broadly defined, are a connected group of data and behaviors. Because they are related, the behavior usually uses or modifies the data and vic versa, which is shared within the class structure. \n",
    "\n",
    "Class data are usually referred to as \"properties\", while class behaviors are referred to as \"methods\".\n",
    "\n",
    "Class data/behaviors are accessed via a ``object.attribute`` (dot) syntax. This is common behavior for all languages.\n",
    "\n",
    "Understanding classes is easiest with real-world objects. E.g. cars accelerate (behavior), have an engine (properties), and utilize an engine to accelerate (connectedness). "
   ]
  },
  {
   "cell_type": "code",
   "execution_count": 44,
   "metadata": {
    "collapsed": true
   },
   "outputs": [],
   "source": [
    "class Door:\n",
    "    def __init__(self, material, is_open=True):\n",
    "        self.material = material\n",
    "        self.is_open = is_open\n",
    "        \n",
    "    def open(self):\n",
    "        print(\"The door is now open\")\n",
    "        self.is_open = True\n",
    "        \n",
    "    def close(self):\n",
    "        print(\"The door is now closed\")\n",
    "        self.is_open = False"
   ]
  },
  {
   "cell_type": "code",
   "execution_count": 45,
   "metadata": {
    "collapsed": false
   },
   "outputs": [
    {
     "data": {
      "text/plain": [
       "'oak'"
      ]
     },
     "execution_count": 45,
     "metadata": {},
     "output_type": "execute_result"
    }
   ],
   "source": [
    "door = Door('oak')\n",
    "door.material"
   ]
  },
  {
   "cell_type": "code",
   "execution_count": 46,
   "metadata": {
    "collapsed": false
   },
   "outputs": [
    {
     "data": {
      "text/plain": [
       "True"
      ]
     },
     "execution_count": 46,
     "metadata": {},
     "output_type": "execute_result"
    }
   ],
   "source": [
    "door.is_open"
   ]
  },
  {
   "cell_type": "code",
   "execution_count": 47,
   "metadata": {
    "collapsed": false
   },
   "outputs": [
    {
     "name": "stdout",
     "output_type": "stream",
     "text": [
      "The door is now closed\n"
     ]
    }
   ],
   "source": [
    "door.close()"
   ]
  },
  {
   "cell_type": "code",
   "execution_count": 48,
   "metadata": {
    "collapsed": false
   },
   "outputs": [
    {
     "data": {
      "text/plain": [
       "False"
      ]
     },
     "execution_count": 48,
     "metadata": {},
     "output_type": "execute_result"
    }
   ],
   "source": [
    "door.is_open"
   ]
  },
  {
   "cell_type": "markdown",
   "metadata": {},
   "source": [
    "#### Review Matlab's class syntax.\n",
    "\n",
    "Classes are useful for many reasons, but one is the ability to \"inherit\" themselves and \"overload\" methods."
   ]
  },
  {
   "cell_type": "code",
   "execution_count": 63,
   "metadata": {
    "collapsed": true
   },
   "outputs": [],
   "source": [
    "class FrenchPineDoor(Door):\n",
    "    def __init__(self, is_open=True):\n",
    "        Door.__init__(self, material='pine', is_open=is_open)\n",
    "        \n",
    "    def close(self):\n",
    "        print(\"The French Pine doors are now closed\")\n",
    "        self.is_open = False"
   ]
  },
  {
   "cell_type": "code",
   "execution_count": 64,
   "metadata": {
    "collapsed": false
   },
   "outputs": [],
   "source": [
    "fpd = FrenchPineDoor()"
   ]
  },
  {
   "cell_type": "code",
   "execution_count": 65,
   "metadata": {
    "collapsed": false
   },
   "outputs": [
    {
     "data": {
      "text/plain": [
       "'pine'"
      ]
     },
     "execution_count": 65,
     "metadata": {},
     "output_type": "execute_result"
    }
   ],
   "source": [
    "fpd.material"
   ]
  },
  {
   "cell_type": "code",
   "execution_count": 66,
   "metadata": {
    "collapsed": false
   },
   "outputs": [
    {
     "name": "stdout",
     "output_type": "stream",
     "text": [
      "The door is now open\n"
     ]
    }
   ],
   "source": [
    "fpd.open()"
   ]
  },
  {
   "cell_type": "code",
   "execution_count": 67,
   "metadata": {
    "collapsed": false
   },
   "outputs": [
    {
     "name": "stdout",
     "output_type": "stream",
     "text": [
      "The French Pine doors are now closed\n"
     ]
    }
   ],
   "source": [
    "fpd.close()"
   ]
  },
  {
   "cell_type": "code",
   "execution_count": 68,
   "metadata": {
    "collapsed": false
   },
   "outputs": [
    {
     "data": {
      "text/plain": [
       "False"
      ]
     },
     "execution_count": 68,
     "metadata": {},
     "output_type": "execute_result"
    }
   ],
   "source": [
    "fpd.is_open"
   ]
  },
  {
   "cell_type": "code",
   "execution_count": null,
   "metadata": {
    "collapsed": true
   },
   "outputs": [],
   "source": []
  }
 ],
 "metadata": {
  "kernelspec": {
   "display_name": "Python 3",
   "language": "python",
   "name": "python3"
  },
  "language_info": {
   "codemirror_mode": {
    "name": "ipython",
    "version": 3
   },
   "file_extension": ".py",
   "mimetype": "text/x-python",
   "name": "python",
   "nbconvert_exporter": "python",
   "pygments_lexer": "ipython3",
   "version": "3.4.3"
  }
 },
 "nbformat": 4,
 "nbformat_minor": 0
}
