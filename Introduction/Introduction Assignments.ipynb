{
 "metadata": {
  "name": "",
  "signature": "sha256:08b4ca471bad4a12c16559837522b0f3394d250d49f03ace501cc45dfb097a21"
 },
 "nbformat": 3,
 "nbformat_minor": 0,
 "worksheets": [
  {
   "cells": [
    {
     "cell_type": "markdown",
     "metadata": {},
     "source": [
      "Assignment #2: Create a ``Hero`` class that has a few generic hero properties and abilites (e.g. a name, \"occupation\"). Then create 2 superhero classes (e.g. ``Batman``) that inherit from ``Hero`` and add a few methods specific to that superhero."
     ]
    },
    {
     "cell_type": "markdown",
     "metadata": {},
     "source": [
      "Assignment #3: Write a program to determine the center pixel of this CBCT image: https://github.com/jrkerns/MDA_workshop/blob/master/Data/CBCT.dcm?raw=true\n",
      "\n",
      "Use Matlab or Python, your choice."
     ]
    }
   ],
   "metadata": {}
  }
 ]
}