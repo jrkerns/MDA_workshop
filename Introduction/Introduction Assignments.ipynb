{
 "cells": [
  {
   "cell_type": "markdown",
   "metadata": {},
   "source": [
    "Assignment #2: Create a ``Hero`` class that has a few generic hero properties and abilites (e.g. a name, \"occupation\"). Then create 2 superhero classes (e.g. ``Batman``) that inherit from ``Hero`` and add a few methods specific to that superhero."
   ]
  },
  {
   "cell_type": "markdown",
   "metadata": {},
   "source": [
    "#### A Python implementation of Assignment #2"
   ]
  },
  {
   "cell_type": "code",
   "execution_count": 8,
   "metadata": {},
   "outputs": [],
   "source": [
    "class Hero:\n",
    "    \"\"\"A base class for all heros\"\"\"\n",
    "    \n",
    "    def __init__(self, name, occupation, can_fly, has_sidekick):\n",
    "        self.name = name\n",
    "        self.occupation = occupation\n",
    "        self.can_fly = can_fly\n",
    "        self.has_sidekick = has_sidekick\n",
    "        \n",
    "        \n",
    "class Batman(Hero):\n",
    "    \"\"\"The hero Batman\"\"\"\n",
    "    \n",
    "    def __init__(self):\n",
    "        # The below statement runs the Hero.__init__() method, reusing that code rather than writing all of it again.\n",
    "        Hero.__init__(self, name='Bruce Wayne', occupation='Billionare', can_fly=False, has_sidekick=True)\n",
    "        # in addition to having a sidekick, the sidekick usually has a name\n",
    "        self.sidekick = 'Robin'\n",
    "        \n",
    "    def shoot_grappling_hook(self):\n",
    "        print(\"Batman shoots his grappling hook!\")\n",
    "        \n",
    "    def respond_to_bat_signal(self):\n",
    "        print(\"Batman and \" + self.sidekick + \" are off!\")\n",
    "        \n",
    "    def fly(self):\n",
    "        print(\"It is \" + str(self.can_fly) + \" that Batman can fly\")\n",
    "        \n",
    "        \n",
    "class Superman(Hero):\n",
    "    \"\"\"The hero Superman\"\"\"\n",
    "    \n",
    "    def __init__(self):\n",
    "        Hero.__init__(self, name='Clark Kent', occupation='Reporter', can_fly=True, has_sidekick=False)\n",
    "        self.love_interest = 'Lois Lane'\n",
    "        \n",
    "    def fly(self):\n",
    "        print(\"Superman is flying\")\n",
    "        \n",
    "    def stop_speeding_bullet(self):\n",
    "        print(\"I will stop a speeding bullet for you, \" + self.love_interest)"
   ]
  },
  {
   "cell_type": "markdown",
   "metadata": {},
   "source": [
    "Now, we can make an instance of our heros..."
   ]
  },
  {
   "cell_type": "code",
   "execution_count": 9,
   "metadata": {},
   "outputs": [
    {
     "name": "stdout",
     "output_type": "stream",
     "text": [
      "Superman is flying\n",
      "I will stop a speeding bullet for you, Lois Lane\n"
     ]
    }
   ],
   "source": [
    "superman = Superman()\n",
    "superman.fly()\n",
    "superman.stop_speeding_bullet()"
   ]
  },
  {
   "cell_type": "markdown",
   "metadata": {},
   "source": [
    "We can also access anything from ``Hero`` since we have inherited that class:"
   ]
  },
  {
   "cell_type": "code",
   "execution_count": 10,
   "metadata": {},
   "outputs": [
    {
     "data": {
      "text/plain": [
       "False"
      ]
     },
     "execution_count": 10,
     "output_type": "execute_result",
     "metadata": {}
    }
   ],
   "source": [
    "superman.has_sidekick"
   ]
  },
  {
   "cell_type": "markdown",
   "metadata": {},
   "source": [
    "And now Batman..."
   ]
  },
  {
   "cell_type": "code",
   "execution_count": 11,
   "metadata": {},
   "outputs": [
    {
     "data": {
      "text/plain": [
       "'Bruce Wayne'"
      ]
     },
     "execution_count": 11,
     "output_type": "execute_result",
     "metadata": {}
    }
   ],
   "source": [
    "batman = Batman()\n",
    "batman.name"
   ]
  },
  {
   "cell_type": "code",
   "execution_count": 12,
   "metadata": {},
   "outputs": [
    {
     "name": "stdout",
     "output_type": "stream",
     "text": [
      "It is False that Batman can fly\n"
     ]
    }
   ],
   "source": [
    "batman.fly()"
   ]
  },
  {
   "cell_type": "code",
   "execution_count": 13,
   "metadata": {},
   "outputs": [
    {
     "name": "stdout",
     "output_type": "stream",
     "text": [
      "Batman and Robin are off!\n"
     ]
    }
   ],
   "source": [
    "batman.respond_to_bat_signal()"
   ]
  }
 ],
 "metadata": {
  "kernelspec": {
   "display_name": "Python 3",
   "language": "python",
   "name": "python3"
  },
  "language_info": {
   "codemirror_mode": {
    "name": "ipython",
    "version": 3.0
   },
   "file_extension": ".py",
   "mimetype": "text/x-python",
   "name": "python",
   "nbconvert_exporter": "python",
   "pygments_lexer": "ipython3",
   "version": "3.4.3"
  }
 },
 "nbformat": 4,
 "nbformat_minor": 0
}