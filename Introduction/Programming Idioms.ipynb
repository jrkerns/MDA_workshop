{
 "cells": [
  {
   "cell_type": "markdown",
   "metadata": {},
   "source": [
    "# Programming Idioms\n",
    "\n",
    "Programming is hard. There are lots of things to keep in mind, libraries to use, people to please, and inevitable problems that come up. But, programming can accomplish a LOT. We live in a society that relagates so much to computers and software nowadays that it's impossible to live without it. \n",
    "\n",
    "As you learn to program, it is important to keep some guidelines in mind, regardless of domain, program size, or language. These are culled from [Best Practices for Scientific Computing](http://journals.plos.org/plosbiology/article?id=10.1371/journal.pbio.1001745) and [Code Complete 2nd ed.](http://cc2e.com/)\n",
    "\n",
    "* **Software's primary technical initiative: Manage complexity.**\n",
    "  * Software is complicated; but\n",
    "  * Software should make your life easier. \n",
    "  \n",
    "  If software isn't making your life easier then it's not good software. However, we live in a complicated \n",
    "  world and by neccessity software interaction is also complicated. *Writing good software means being able to write \n",
    "  complex code without having to think about too much of it at any one time.* The less simultaneous thoughts you \n",
    "  have to hold in your head to execute something the better. The rest of these idioms help accomplish that.\n",
    "* **Write code as if someone else had to read it.**\n",
    "  Self-explanatory but oft-neglected. The concepts this encompasses will be discussed throughout this course and include:\n",
    "  * Good variable, function/method, and class names.\n",
    "  * Document functions and classes with docstrings, including parameter explanations.\n",
    "* **Don't reinvent the wheel.**\n",
    "  If someone else has done it, they've likely done it better than you. When applicable, this includes:\n",
    "  * Using the language's standard library. It'll be rock-solid.\n",
    "  * Using popular 3rd-party solutions.\n",
    "* **Don't repeat yourself.**\n",
    "  If sections of code are repeated twice, refactor into a function or class. In this way:\n",
    "  * There is only one authoritative source for doing something.\n",
    "  * Changes made once are reflected everywhere.\n",
    "* **Use version control.**\n",
    "  Changes can break the system, sometimes catastrophically. It's important to be able to revert back to a safe state quickly and easily. Version control lets you:\n",
    "  * Quickly revert back to a prior state.\n",
    "  * Have multiple \"branches\" for working on multiple items simultaneously.\n",
    "  * Manage projects easily when multiple people are working on it.\n",
    "* **Tests make a library robust and change-safe.**\n",
    "  Tests ensure that your code:\n",
    "  * Works the way it should under given circumstances.\n",
    "  * Continues to work correctly after changes to the algorithm."
   ]
  },
  {
   "cell_type": "code",
   "execution_count": null,
   "metadata": {
    "collapsed": true
   },
   "outputs": [],
   "source": []
  }
 ],
 "metadata": {
  "kernelspec": {
   "display_name": "Python 3",
   "language": "python",
   "name": "python3"
  },
  "language_info": {
   "codemirror_mode": {
    "name": "ipython",
    "version": 3
   },
   "file_extension": ".py",
   "mimetype": "text/x-python",
   "name": "python",
   "nbconvert_exporter": "python",
   "pygments_lexer": "ipython3",
   "version": "3.4.3"
  }
 },
 "nbformat": 4,
 "nbformat_minor": 0
}
