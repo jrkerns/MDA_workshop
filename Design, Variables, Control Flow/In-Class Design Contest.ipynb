{
 "cells": [
  {
   "cell_type": "markdown",
   "metadata": {},
   "source": [
    "### In-Class Design Contest\n",
    "\n",
    "The in-class design contest does not involve scientific libraries or complex algorithms. It is a test of your ability to analyze a problem. \n",
    "\n",
    "* **Goal** - Design a function that will calculate the maximum number of people that were alive, given a list of birth and death dates.\n",
    "* **I/O** - Input is a comma-separated value file (.csv) with 3 columns: Name, Birth Date, Death Date. Output is an integer.\n",
    "\n",
    "CSV URL: https://github.com/jrkerns/MDA_workshop/blob/master/Data/BirthDeath.csv\n",
    "\n",
    "The solution should be in pseudocode only, but we will all make a real implementation based on the best design.\n",
    "\n",
    "Submit your pseudocode here: http://goo.gl/forms/LvDsQ5G7D3"
   ]
  },
  {
   "cell_type": "code",
   "execution_count": null,
   "metadata": {
    "collapsed": true
   },
   "outputs": [],
   "source": []
  }
 ],
 "metadata": {
  "kernelspec": {
   "display_name": "Python 3",
   "language": "python",
   "name": "python3"
  },
  "language_info": {
   "codemirror_mode": {
    "name": "ipython",
    "version": 3
   },
   "file_extension": ".py",
   "mimetype": "text/x-python",
   "name": "python",
   "nbconvert_exporter": "python",
   "pygments_lexer": "ipython3",
   "version": "3.4.3"
  }
 },
 "nbformat": 4,
 "nbformat_minor": 0
}
