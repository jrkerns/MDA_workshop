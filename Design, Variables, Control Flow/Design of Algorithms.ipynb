{
 "cells": [
  {
   "cell_type": "markdown",
   "metadata": {},
   "source": [
    "# Design of Algorithms\n",
    "\n",
    "In speaking of \"design\", we usually mean how the data and functions are layed out in a particular script, function, or class. Many of the best practices presented here are actually specific tips on design (e.g. design tips on variable usage), but this lesson focuses on the big picture design of your algorithm. \n",
    "\n",
    "There are many suggestions that will be given and it is unlikely you will follow all of them every time, but if you try them out at least a few times, you'll be more likely to think about them the next time you approach a problem. As well, the tactics become easier to think through the more you do it. Soon, you can do a simple checklist in your mind before starting to code and you'll be set!"
   ]
  },
  {
   "cell_type": "markdown",
   "metadata": {},
   "source": [
    "### The Goal\n",
    "\n",
    "In designing algorithms, even if it's specialized or is just a cleanup script, it's there to solve a problem, even if it's just a tiny one. \n",
    "\n",
    "**The first step in designing your solution is to know exactly what the goal is; what is the proposed outcome/solution to the problem.** This should be expressable in a phrase or 1 full sentence. The goal should not include anything about *how* the goal is accomplished, simply *what* it accomplishes.\n",
    "\n",
    "Example: The goal of ``LungFinder`` is to determine the contours of the lungs in CT image datasets."
   ]
  },
  {
   "cell_type": "markdown",
   "metadata": {},
   "source": [
    "### The Inputs & Outputs\n",
    "\n",
    "After coming up with a goal, **identify what data is coming *into* the algorithm and what data will be going *out* of the algorithm**. There may be multiple data pieces; there may also be multiple data formats. You also may need to output the data in a few different varieties. Make two lists, one for input(s) and one for output(s).\n",
    "\n",
    "Continuing our example of ``LungFinder``:\n",
    "\n",
    "| Inputs | Outputs\n",
    "| --- | ---\n",
    "| .dcm | .dcm\n",
    "| .zip | text\n",
    "| URL | array"
   ]
  },
  {
   "cell_type": "markdown",
   "metadata": {},
   "source": [
    "### Prelimenary Research/Don't Reinvent the Wheel\n",
    "\n",
    "The less code you can write, the better. **If it's been implemented before, use that implementation; don't reinvent the wheel.** For low-level algorithms like strings, data I/O, mathematics, statistics, or anything generic that lots of people would need to do, it's very likely been done before. \n",
    "\n",
    "**Google \"my algorithm in language X\" before you decide to write your own implementation.**\n",
    "\n",
    "If it's been done before, hurrah, you don't have to write any code!\n",
    "If it hasn't been done before someone has probably written about it. They may have ideas on *how* it should be done."
   ]
  },
  {
   "cell_type": "markdown",
   "metadata": {},
   "source": [
    "### Pseudocode\n",
    "\n",
    "Now that the goal and prerequisites are known and you know it hasn't been done before, it's time to think about an algorithm. For that, use pseudocode.\n",
    "\n",
    "Pseudocode is fake code. It's not executable, but it is written in a programming style. An example of pseudocode for the ``LungFinder`` might look like this:\n",
    "\n",
    "    load the dicom file\n",
    "    find edges via canny detection\n",
    "    remove small edge lines\n",
    "    connect large edge lines\n",
    "    for each line segment\n",
    "        determine if area covered is roughly the size of a lung\n",
    "    if no lung segments found\n",
    "        print warning\n",
    "    else\n",
    "        return the area and centroid of lung\n",
    "    \n",
    "Pseudocode is a bridge between your thoughts and the code that executes your algorithm and it's always useful.\n",
    "\n",
    "**Pseudocode is the first step in moving your algorithm from a thought or schematic to executable code.**\n",
    "\n",
    "Use the following tips when writing pseudocode:\n",
    "\n",
    "* Use English-like statements that precisely describe specific operations. \n",
    "* Put one operation per line.\n",
    "* Avoid specific language elements. Pseudocode should be able to be implemented in any language.\n",
    "* Write at the level of intent. Describe the *meaning* of each step, not how it's implemented. (\"I don't care how it's done, just XXXXXXXXX\")\n",
    "* All the statements should be at roughly the same abstraction level. If it's not, either separate into multiple     steps or add a note that that step needs to go through the design process.\n",
    "\n",
    "It's worth noting that it's not neccessary that each line of pseudocode must correspond to 1 line of real code. Each line of pseudocode may require a function, which is completely fine. If the goal is clear and specific, it's acceptable pseudocode.\n"
   ]
  },
  {
   "cell_type": "markdown",
   "metadata": {},
   "source": [
    "### Iterate Implementations\n",
    "\n",
    "We often have an implementation in mind when we start designing our algorithm. The problem is, it might not be the best. A problem may come up while researching or writing your pseudocode; you might find out there's something difficult about your implementation and another way is better.\n",
    "\n",
    "No matter how good your first approach sounds, **design at least one other pseudocode implementation that's different than the original**. There may be several valid options, so make as many as neccessary.\n",
    "\n",
    "Once you have at least two options, think about the pros and cons of each and make a decision to pursue the best one."
   ]
  },
  {
   "cell_type": "markdown",
   "metadata": {},
   "source": [
    "### Review it\n",
    "\n",
    "Once you've decided on your final algorithm, **review the pseudocode and tweak if neccessary**. You may realize that there was one good idea from another implementation that you can incorporate. \n",
    "\n",
    "Although we don't often have the luxury of having someone else review our code, it's much quicker and easier to review and much quicker to fix pseudocode than real code, so your chances are higher at a high level of abstraction. \n",
    "\n",
    "If you can, have someone look over your goal, I/O, and pseudocode and give feedback. "
   ]
  },
  {
   "cell_type": "markdown",
   "metadata": {},
   "source": [
    "### Get to coding!\n",
    "\n",
    "At this point the goal, I/O, and implementation are on paper and you're ready to start coding! The checklist to get started is as follows:\n",
    "\n",
    "* **Create the function/class structure and name it.**\n",
    "\n",
    "```python\n",
    "      def lung_finder(dicom_file):\n",
    "          pass\n",
    "```\n",
    "          \n",
    "* **Write down each implementation step, then code that block.** If the block is more than a handful of lines long,     then create sub-comments (comments with an ellipsis) below it spelling out the specific steps.\n",
    "\n",
    "```python\n",
    "      def lung_finder(dicom_file):\n",
    "          # load the DICOM file\n",
    "          dicom_data = read_dicom(dicom_file)\n",
    "\n",
    "          # find edges via canny detection\n",
    "          canny_lines = canny_filtering(dicom_data)\n",
    "```"
   ]
  },
  {
   "cell_type": "code",
   "execution_count": 2,
   "metadata": {},
   "outputs": [],
   "source": [
    "def lung_finder(dicom_file):\n",
    "    # load the DICOM file\n",
    "    dicom_data = read_dicom(dicom_file)\n",
    "\n",
    "    # find edges via canny detection\n",
    "    canny_lines = canny_filtering(dicom_data)\n",
    "\n",
    "    # remove small edge lines (by finding lines >20 pixels long)\n",
    "    big_lines = []\n",
    "    for line in canny_lines:\n",
    "        if len(line) > 20:\n",
    "            big_lines.append(line)\n",
    "\n",
    "    # connect large edge lines\n",
    "    connected_lines = []\n",
    "    for line in big_lines:\n",
    "        if line.has_neighbor():\n",
    "            line.connect()\n",
    "            connected_lines.append(line)\n",
    "\n",
    "    # for each line segment (shape) determine if area covered is roughly the size of a lung\n",
    "    lung_shapes = []\n",
    "    for shape in connected_lines:\n",
    "        # ...determine area covered\n",
    "        filled_shape = shape.fill()\n",
    "        roi_in_pixels = filled_shape.count()\n",
    "        roi_in_mm3 = roi_in_pixels * dicom_data.PixelDistance\n",
    "        # ...compare to average lung size\n",
    "        average_lung_size_mm3 = 5000\n",
    "        if roi_in_mm3 >= average_lung_size_mm3:\n",
    "            lung_shapes.append(shape)\n",
    "\n",
    "    # if no lung segments found print warning\n",
    "    # else return the area and centroid of lung\n",
    "    if len(lung_shapes) == 0:\n",
    "        print(\"No lung structures found\")\n",
    "    else:\n",
    "        centroid = lung_shapes.centroid()\n",
    "        return roi_in_mm3, centroid"
   ]
  },
  {
   "cell_type": "markdown",
   "metadata": {},
   "source": [
    "### Apply Design Recursively\n",
    "\n",
    "Design is always evolving. The perfectly designed algorithm may not play out so smoothly when it comes time to code. When one statement of pseudocode turns into many lines, take the statement and apply the same design process. The original statement is your goal...\n",
    "\n",
    "How do you know when to start another design process? **If the pseudocode statement takes >3 subcomments to explain, it's a sign you should move the section into a function.**\n",
    "\n",
    "Review the script/function/class after all is said and done"
   ]
  },
  {
   "cell_type": "code",
   "execution_count": null,
   "metadata": {},
   "outputs": [],
   "source": [
    ""
   ]
  }
 ],
 "metadata": {
  "kernelspec": {
   "display_name": "Python 3",
   "language": "python",
   "name": "python3"
  },
  "language_info": {
   "codemirror_mode": {
    "name": "ipython",
    "version": 3.0
   },
   "file_extension": ".py",
   "mimetype": "text/x-python",
   "name": "python",
   "nbconvert_exporter": "python",
   "pygments_lexer": "ipython3",
   "version": "3.4.4"
  }
 },
 "nbformat": 4,
 "nbformat_minor": 0
}